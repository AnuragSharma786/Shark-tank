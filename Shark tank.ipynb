{
 "cells": [
  {
   "cell_type": "code",
   "execution_count": 3,
   "id": "ab9fbd2e-8c2b-49e3-9a08-dac921c89d5a",
   "metadata": {},
   "outputs": [
    {
     "name": "stdout",
     "output_type": "stream",
     "text": [
      "     Season Number      Startup Name  Episode Number  Pitch Number  \\\n",
      "0                1     BluePineFoods               1             1   \n",
      "1                1      BoozScooters               1             2   \n",
      "2                1  HeartUpMySleeves               1             3   \n",
      "3                1         TagzFoods               2             4   \n",
      "4                1      HeadAndHeart               2             5   \n",
      "..             ...               ...             ...           ...   \n",
      "629              4             Ecoil              51           630   \n",
      "630              4          Rescript              51           631   \n",
      "631              4     TickleYourArt              52           632   \n",
      "632              4         Symbionic              52           633   \n",
      "633              4          XLCinema              52           634   \n",
      "\n",
      "    Season Start Season End Original Air Date                Episode Title  \\\n",
      "0      20-Dec-21   4-Feb-22         20-Dec-21  Badlegi Business Ki Tasveer   \n",
      "1      20-Dec-21   4-Feb-22         20-Dec-21  Badlegi Business Ki Tasveer   \n",
      "2      20-Dec-21   4-Feb-22         20-Dec-21  Badlegi Business Ki Tasveer   \n",
      "3      20-Dec-21   4-Feb-22         21-Dec-21      Insaan, Ideas Aur Sapne   \n",
      "4      20-Dec-21   4-Feb-22         21-Dec-21      Insaan, Ideas Aur Sapne   \n",
      "..           ...        ...               ...                          ...   \n",
      "629     6-Jan-25        NaN         17-Mar-25      Ecopreneurs In The Tank   \n",
      "630     6-Jan-25        NaN         17-Mar-25      Ecopreneurs In The Tank   \n",
      "631     6-Jan-25        NaN         18-Mar-25         Empowering Abilities   \n",
      "632     6-Jan-25        NaN         18-Mar-25         Empowering Abilities   \n",
      "633     6-Jan-25        NaN         18-Mar-25         Empowering Abilities   \n",
      "\n",
      "                          Anchor                      Industry  ...  \\\n",
      "0                Rannvijay Singh             Food and Beverage  ...   \n",
      "1                Rannvijay Singh  Vehicles/Electrical Vehicles  ...   \n",
      "2                Rannvijay Singh                Beauty/Fashion  ...   \n",
      "3                Rannvijay Singh             Food and Beverage  ...   \n",
      "4                Rannvijay Singh            Children/Education  ...   \n",
      "..                           ...                           ...  ...   \n",
      "629  Sahiba Bali/Aashish Solanki               Green/CleanTech  ...   \n",
      "630  Sahiba Bali/Aashish Solanki               Green/CleanTech  ...   \n",
      "631              Aashish Solanki                        Others  ...   \n",
      "632              Aashish Solanki                Medical/Health  ...   \n",
      "633              Aashish Solanki                 Entertainment  ...   \n",
      "\n",
      "    Invested Guest Name                All Guest Names  Namita Present  \\\n",
      "0        Ashneer Grover                 Ashneer Grover             1.0   \n",
      "1        Ashneer Grover                 Ashneer Grover             1.0   \n",
      "2                   NaN                 Ashneer Grover             1.0   \n",
      "3        Ashneer Grover                 Ashneer Grover             1.0   \n",
      "4                   NaN                 Ashneer Grover             1.0   \n",
      "..                  ...                            ...             ...   \n",
      "629      Chirag Nakrani                 Chirag Nakrani             1.0   \n",
      "630                 NaN                 Chirag Nakrani             1.0   \n",
      "631                 NaN  Srikanth Bolla,Chirag Nakrani             1.0   \n",
      "632                 NaN  Srikanth Bolla,Chirag Nakrani             1.0   \n",
      "633                 NaN  Srikanth Bolla,Chirag Nakrani             1.0   \n",
      "\n",
      "     Vineeta Present  Anupam Present  Aman Present  Peyush Present  \\\n",
      "0                1.0             1.0           1.0             NaN   \n",
      "1                1.0             1.0           1.0             NaN   \n",
      "2                1.0             1.0           1.0             NaN   \n",
      "3                1.0             1.0           1.0             NaN   \n",
      "4                1.0             1.0           1.0             NaN   \n",
      "..               ...             ...           ...             ...   \n",
      "629              NaN             1.0           1.0             NaN   \n",
      "630              NaN             1.0           1.0             NaN   \n",
      "631              NaN             1.0           1.0             NaN   \n",
      "632              NaN             1.0           1.0             NaN   \n",
      "633              NaN             1.0           1.0             NaN   \n",
      "\n",
      "     Ritesh Present Amit Present Guest Present  \n",
      "0               NaN          NaN           1.0  \n",
      "1               NaN          NaN           1.0  \n",
      "2               NaN          NaN           1.0  \n",
      "3               NaN          NaN           1.0  \n",
      "4               NaN          NaN           1.0  \n",
      "..              ...          ...           ...  \n",
      "629             1.0          NaN           1.0  \n",
      "630             1.0          NaN           1.0  \n",
      "631             NaN          NaN           2.0  \n",
      "632             NaN          NaN           2.0  \n",
      "633             NaN          NaN           2.0  \n",
      "\n",
      "[634 rows x 80 columns]\n"
     ]
    }
   ],
   "source": [
    "import pandas as pd\n",
    "\n",
    "shark = pd.read_csv(\"C:/Users/anura/Downloads/Shark Tank India.csv\")\n",
    "print(shark)"
   ]
  },
  {
   "cell_type": "code",
   "execution_count": 17,
   "id": "b7651e86-b245-47d4-a461-b2846e8a83a5",
   "metadata": {},
   "outputs": [
    {
     "name": "stdout",
     "output_type": "stream",
     "text": [
      "Season Number       0\n",
      "Startup Name        0\n",
      "Episode Number      0\n",
      "Pitch Number        0\n",
      "Season Start        0\n",
      "                 ... \n",
      "Aman Present       78\n",
      "Peyush Present    246\n",
      "Ritesh Present    496\n",
      "Amit Present      497\n",
      "Guest Present     323\n",
      "Length: 80, dtype: int64\n"
     ]
    }
   ],
   "source": [
    "print(shark.isnull().sum())"
   ]
  },
  {
   "cell_type": "code",
   "execution_count": 19,
   "id": "b4b7bf51-98d4-4179-a107-454e103b649b",
   "metadata": {},
   "outputs": [
    {
     "name": "stdout",
     "output_type": "stream",
     "text": [
      "Season Number       0\n",
      "Startup Name        0\n",
      "Episode Number      0\n",
      "Pitch Number        0\n",
      "Season Start        0\n",
      "                 ... \n",
      "Aman Present        0\n",
      "Peyush Present     22\n",
      "Ritesh Present    327\n",
      "Amit Present      184\n",
      "Guest Present       0\n",
      "Length: 80, dtype: int64\n"
     ]
    },
    {
     "name": "stderr",
     "output_type": "stream",
     "text": [
      "C:\\Users\\anura\\AppData\\Local\\Temp\\ipykernel_5780\\384857980.py:1: FutureWarning: DataFrame.fillna with 'method' is deprecated and will raise in a future version. Use obj.ffill() or obj.bfill() instead.\n",
      "  shark.fillna(method = \"ffill\",inplace = True)\n"
     ]
    }
   ],
   "source": [
    "shark.fillna(method = \"ffill\",inplace = True)\n",
    "print(shark.isnull().sum())"
   ]
  },
  {
   "cell_type": "code",
   "execution_count": 21,
   "id": "da9bce0b-d9ce-488b-83d1-668fe9f57819",
   "metadata": {},
   "outputs": [
    {
     "name": "stdout",
     "output_type": "stream",
     "text": [
      "Season Number      0\n",
      "Startup Name       0\n",
      "Episode Number     0\n",
      "Pitch Number       0\n",
      "Season Start       0\n",
      "                  ..\n",
      "All Guest Names    0\n",
      "Namita Present     0\n",
      "Vineeta Present    0\n",
      "Anupam Present     0\n",
      "Guest Present      0\n",
      "Length: 76, dtype: int64\n"
     ]
    }
   ],
   "source": [
    "shark.drop(columns=['Aman Present','Peyush Present','Ritesh Present','Amit Present'], inplace=True)\n",
    "print(shark.isnull().sum())"
   ]
  },
  {
   "cell_type": "code",
   "execution_count": 23,
   "id": "fc4308fb-6225-4efe-ac74-c33784bf91b5",
   "metadata": {},
   "outputs": [
    {
     "name": "stdout",
     "output_type": "stream",
     "text": [
      "File saved successfully at: C:/Users/anura/OneDrive/Desktop/Sharks_tank\n"
     ]
    }
   ],
   "source": [
    "file_path = \"C:/Users/anura/OneDrive/Desktop/Sharks_tank\"\n",
    "shark.to_csv(file_path, index=False)\n",
    "print(f\"File saved successfully at: {file_path}\")"
   ]
  }
 ],
 "metadata": {
  "kernelspec": {
   "display_name": "Python 3 (ipykernel)",
   "language": "python",
   "name": "python3"
  },
  "language_info": {
   "codemirror_mode": {
    "name": "ipython",
    "version": 3
   },
   "file_extension": ".py",
   "mimetype": "text/x-python",
   "name": "python",
   "nbconvert_exporter": "python",
   "pygments_lexer": "ipython3",
   "version": "3.12.7"
  }
 },
 "nbformat": 4,
 "nbformat_minor": 5
}
